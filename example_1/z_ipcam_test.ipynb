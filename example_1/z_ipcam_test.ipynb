{
 "cells": [
  {
   "cell_type": "code",
   "execution_count": null,
   "metadata": {},
   "outputs": [],
   "source": []
  },
  {
   "cell_type": "code",
   "execution_count": 2,
   "metadata": {},
   "outputs": [
    {
     "name": "stdout",
     "output_type": "stream",
     "text": [
      "[2023/08/18 10:55:24] ppocr DEBUG: Namespace(help='==SUPPRESS==', use_gpu=False, use_xpu=False, use_npu=False, ir_optim=True, use_tensorrt=False, min_subgraph_size=15, precision='fp32', gpu_mem=500, gpu_id=0, image_dir=None, page_num=0, det_algorithm='DB', det_model_dir='C:\\\\Users\\\\Playdata/.paddleocr/whl\\\\det\\\\ch\\\\ch_PP-OCRv4_det_infer', det_limit_side_len=960, det_limit_type='max', det_box_type='quad', det_db_thresh=0.3, det_db_box_thresh=0.6, det_db_unclip_ratio=1.5, max_batch_size=10, use_dilation=False, det_db_score_mode='fast', det_east_score_thresh=0.8, det_east_cover_thresh=0.1, det_east_nms_thresh=0.2, det_sast_score_thresh=0.5, det_sast_nms_thresh=0.2, det_pse_thresh=0, det_pse_box_thresh=0.85, det_pse_min_area=16, det_pse_scale=1, scales=[8, 16, 32], alpha=1.0, beta=1.0, fourier_degree=5, rec_algorithm='SVTR_LCNet', rec_model_dir='C:\\\\Users\\\\Playdata/.paddleocr/whl\\\\rec\\\\ch\\\\ch_PP-OCRv4_rec_infer', rec_image_inverse=True, rec_image_shape='3, 48, 320', rec_batch_num=6, max_text_length=25, rec_char_dict_path='c:\\\\div\\\\Django_tutorial\\\\0.connect_model\\\\.venv1\\\\lib\\\\site-packages\\\\paddleocr\\\\ppocr\\\\utils\\\\ppocr_keys_v1.txt', use_space_char=True, vis_font_path='./doc/fonts/simfang.ttf', drop_score=0.5, e2e_algorithm='PGNet', e2e_model_dir=None, e2e_limit_side_len=768, e2e_limit_type='max', e2e_pgnet_score_thresh=0.5, e2e_char_dict_path='./ppocr/utils/ic15_dict.txt', e2e_pgnet_valid_set='totaltext', e2e_pgnet_mode='fast', use_angle_cls=False, cls_model_dir='C:\\\\Users\\\\Playdata/.paddleocr/whl\\\\cls\\\\ch_ppocr_mobile_v2.0_cls_infer', cls_image_shape='3, 48, 192', label_list=['0', '180'], cls_batch_num=6, cls_thresh=0.9, enable_mkldnn=False, cpu_threads=10, use_pdserving=False, warmup=False, sr_model_dir=None, sr_image_shape='3, 32, 128', sr_batch_num=1, draw_img_save_dir='./inference_results', save_crop_res=False, crop_res_save_dir='./output', use_mp=False, total_process_num=1, process_id=0, benchmark=False, save_log_path='./log_output/', show_log=True, use_onnx=False, return_word_box=False, output='./output', table_max_len=488, table_algorithm='TableAttn', table_model_dir=None, merge_no_span_structure=True, table_char_dict_path=None, layout_model_dir=None, layout_dict_path=None, layout_score_threshold=0.5, layout_nms_threshold=0.5, kie_algorithm='LayoutXLM', ser_model_dir=None, re_model_dir=None, use_visual_backbone=True, ser_dict_path='../train_data/XFUND/class_list_xfun.txt', ocr_order_method=None, mode='structure', image_orientation=False, layout=True, table=True, ocr=True, recovery=False, use_pdf2docx_api=False, lang='ch', det=True, rec=True, type='ocr', ocr_version='PP-OCRv4', structure_version='PP-StructureV2')\n",
      "[2023/08/18 10:55:25] ppocr WARNING: Since the angle classifier is not initialized, the angle classifier will not be uesd during the forward process\n",
      "[2023/08/18 10:55:25] ppocr DEBUG: dt_boxes num : 0, elapse : 0.40462231636047363\n",
      "[2023/08/18 10:55:25] ppocr DEBUG: rec_res num  : 0, elapse : 0.0\n",
      "[2023/08/18 10:55:26] ppocr WARNING: Since the angle classifier is not initialized, the angle classifier will not be uesd during the forward process\n",
      "[2023/08/18 10:55:26] ppocr DEBUG: dt_boxes num : 0, elapse : 0.34519028663635254\n",
      "[2023/08/18 10:55:26] ppocr DEBUG: rec_res num  : 0, elapse : 0.0\n",
      "[2023/08/18 10:55:26] ppocr WARNING: Since the angle classifier is not initialized, the angle classifier will not be uesd during the forward process\n",
      "[2023/08/18 10:55:27] ppocr DEBUG: dt_boxes num : 0, elapse : 0.3546721935272217\n",
      "[2023/08/18 10:55:27] ppocr DEBUG: rec_res num  : 0, elapse : 0.0\n",
      "[2023/08/18 10:55:27] ppocr WARNING: Since the angle classifier is not initialized, the angle classifier will not be uesd during the forward process\n",
      "[2023/08/18 10:55:27] ppocr DEBUG: dt_boxes num : 0, elapse : 0.3534843921661377\n",
      "[2023/08/18 10:55:27] ppocr DEBUG: rec_res num  : 0, elapse : 0.0\n",
      "[2023/08/18 10:55:28] ppocr WARNING: Since the angle classifier is not initialized, the angle classifier will not be uesd during the forward process\n",
      "[2023/08/18 10:55:28] ppocr DEBUG: dt_boxes num : 0, elapse : 0.3602163791656494\n",
      "[2023/08/18 10:55:28] ppocr DEBUG: rec_res num  : 0, elapse : 0.0\n",
      "[2023/08/18 10:55:29] ppocr WARNING: Since the angle classifier is not initialized, the angle classifier will not be uesd during the forward process\n",
      "[2023/08/18 10:55:29] ppocr DEBUG: dt_boxes num : 0, elapse : 0.39299678802490234\n",
      "[2023/08/18 10:55:29] ppocr DEBUG: rec_res num  : 0, elapse : 0.0\n",
      "[2023/08/18 10:55:29] ppocr WARNING: Since the angle classifier is not initialized, the angle classifier will not be uesd during the forward process\n",
      "[2023/08/18 10:55:30] ppocr DEBUG: dt_boxes num : 0, elapse : 0.36615467071533203\n",
      "[2023/08/18 10:55:30] ppocr DEBUG: rec_res num  : 0, elapse : 0.0\n",
      "[2023/08/18 10:55:30] ppocr WARNING: Since the angle classifier is not initialized, the angle classifier will not be uesd during the forward process\n",
      "[2023/08/18 10:55:30] ppocr DEBUG: dt_boxes num : 0, elapse : 0.4258580207824707\n",
      "[2023/08/18 10:55:30] ppocr DEBUG: rec_res num  : 0, elapse : 0.0\n",
      "[2023/08/18 10:55:31] ppocr WARNING: Since the angle classifier is not initialized, the angle classifier will not be uesd during the forward process\n",
      "[2023/08/18 10:55:31] ppocr DEBUG: dt_boxes num : 0, elapse : 0.3823568820953369\n",
      "[2023/08/18 10:55:31] ppocr DEBUG: rec_res num  : 0, elapse : 0.0\n",
      "[2023/08/18 10:55:31] ppocr WARNING: Since the angle classifier is not initialized, the angle classifier will not be uesd during the forward process\n",
      "[2023/08/18 10:55:32] ppocr DEBUG: dt_boxes num : 0, elapse : 0.39082789421081543\n",
      "[2023/08/18 10:55:32] ppocr DEBUG: rec_res num  : 0, elapse : 0.0\n",
      "[2023/08/18 10:55:32] ppocr WARNING: Since the angle classifier is not initialized, the angle classifier will not be uesd during the forward process\n",
      "[2023/08/18 10:55:32] ppocr DEBUG: dt_boxes num : 0, elapse : 0.35779428482055664\n",
      "[2023/08/18 10:55:32] ppocr DEBUG: rec_res num  : 0, elapse : 0.0\n",
      "[2023/08/18 10:55:33] ppocr WARNING: Since the angle classifier is not initialized, the angle classifier will not be uesd during the forward process\n",
      "[2023/08/18 10:55:33] ppocr DEBUG: dt_boxes num : 0, elapse : 0.3536968231201172\n",
      "[2023/08/18 10:55:33] ppocr DEBUG: rec_res num  : 0, elapse : 0.0\n",
      "[2023/08/18 10:55:33] ppocr WARNING: Since the angle classifier is not initialized, the angle classifier will not be uesd during the forward process\n",
      "[2023/08/18 10:55:34] ppocr DEBUG: dt_boxes num : 0, elapse : 0.3780944347381592\n",
      "[2023/08/18 10:55:34] ppocr DEBUG: rec_res num  : 0, elapse : 0.0\n",
      "[2023/08/18 10:55:34] ppocr WARNING: Since the angle classifier is not initialized, the angle classifier will not be uesd during the forward process\n",
      "[2023/08/18 10:55:34] ppocr DEBUG: dt_boxes num : 0, elapse : 0.3667416572570801\n",
      "[2023/08/18 10:55:34] ppocr DEBUG: rec_res num  : 0, elapse : 0.0\n",
      "[2023/08/18 10:55:35] ppocr WARNING: Since the angle classifier is not initialized, the angle classifier will not be uesd during the forward process\n",
      "[2023/08/18 10:55:35] ppocr DEBUG: dt_boxes num : 0, elapse : 0.3804934024810791\n",
      "[2023/08/18 10:55:35] ppocr DEBUG: rec_res num  : 0, elapse : 0.0\n",
      "[2023/08/18 10:55:35] ppocr WARNING: Since the angle classifier is not initialized, the angle classifier will not be uesd during the forward process\n",
      "[2023/08/18 10:55:36] ppocr DEBUG: dt_boxes num : 0, elapse : 0.3803060054779053\n",
      "[2023/08/18 10:55:36] ppocr DEBUG: rec_res num  : 0, elapse : 0.0\n",
      "[2023/08/18 10:55:36] ppocr WARNING: Since the angle classifier is not initialized, the angle classifier will not be uesd during the forward process\n",
      "[2023/08/18 10:55:36] ppocr DEBUG: dt_boxes num : 0, elapse : 0.3936617374420166\n",
      "[2023/08/18 10:55:36] ppocr DEBUG: rec_res num  : 0, elapse : 0.0\n",
      "[2023/08/18 10:55:37] ppocr WARNING: Since the angle classifier is not initialized, the angle classifier will not be uesd during the forward process\n",
      "[2023/08/18 10:55:37] ppocr DEBUG: dt_boxes num : 0, elapse : 0.47820520401000977\n",
      "[2023/08/18 10:55:37] ppocr DEBUG: rec_res num  : 0, elapse : 0.0\n",
      "[2023/08/18 10:55:38] ppocr WARNING: Since the angle classifier is not initialized, the angle classifier will not be uesd during the forward process\n",
      "[2023/08/18 10:55:38] ppocr DEBUG: dt_boxes num : 0, elapse : 0.41524696350097656\n",
      "[2023/08/18 10:55:38] ppocr DEBUG: rec_res num  : 0, elapse : 0.0\n",
      "[2023/08/18 10:55:38] ppocr WARNING: Since the angle classifier is not initialized, the angle classifier will not be uesd during the forward process\n",
      "[2023/08/18 10:55:39] ppocr DEBUG: dt_boxes num : 0, elapse : 0.3846275806427002\n",
      "[2023/08/18 10:55:39] ppocr DEBUG: rec_res num  : 0, elapse : 0.0\n",
      "[2023/08/18 10:55:39] ppocr WARNING: Since the angle classifier is not initialized, the angle classifier will not be uesd during the forward process\n",
      "[2023/08/18 10:55:39] ppocr DEBUG: dt_boxes num : 0, elapse : 0.40516090393066406\n",
      "[2023/08/18 10:55:39] ppocr DEBUG: rec_res num  : 0, elapse : 0.0\n",
      "[2023/08/18 10:55:40] ppocr WARNING: Since the angle classifier is not initialized, the angle classifier will not be uesd during the forward process\n",
      "[2023/08/18 10:55:40] ppocr DEBUG: dt_boxes num : 0, elapse : 0.4447340965270996\n",
      "[2023/08/18 10:55:40] ppocr DEBUG: rec_res num  : 0, elapse : 0.0\n",
      "[2023/08/18 10:55:41] ppocr WARNING: Since the angle classifier is not initialized, the angle classifier will not be uesd during the forward process\n",
      "[2023/08/18 10:55:41] ppocr DEBUG: dt_boxes num : 0, elapse : 0.4012308120727539\n",
      "[2023/08/18 10:55:41] ppocr DEBUG: rec_res num  : 0, elapse : 0.0\n",
      "[2023/08/18 10:55:41] ppocr WARNING: Since the angle classifier is not initialized, the angle classifier will not be uesd during the forward process\n",
      "[2023/08/18 10:55:42] ppocr DEBUG: dt_boxes num : 0, elapse : 0.4236140251159668\n",
      "[2023/08/18 10:55:42] ppocr DEBUG: rec_res num  : 0, elapse : 0.0\n",
      "[2023/08/18 10:55:42] ppocr WARNING: Since the angle classifier is not initialized, the angle classifier will not be uesd during the forward process\n",
      "[2023/08/18 10:55:43] ppocr DEBUG: dt_boxes num : 0, elapse : 0.37194013595581055\n",
      "[2023/08/18 10:55:43] ppocr DEBUG: rec_res num  : 0, elapse : 0.0\n",
      "[2023/08/18 10:55:43] ppocr WARNING: Since the angle classifier is not initialized, the angle classifier will not be uesd during the forward process\n",
      "[2023/08/18 10:55:43] ppocr DEBUG: dt_boxes num : 0, elapse : 0.38042235374450684\n",
      "[2023/08/18 10:55:43] ppocr DEBUG: rec_res num  : 0, elapse : 0.0\n",
      "[2023/08/18 10:55:43] ppocr WARNING: Since the angle classifier is not initialized, the angle classifier will not be uesd during the forward process\n",
      "[2023/08/18 10:55:44] ppocr DEBUG: dt_boxes num : 0, elapse : 0.4876868724822998\n",
      "[2023/08/18 10:55:44] ppocr DEBUG: rec_res num  : 0, elapse : 0.0\n",
      "[2023/08/18 10:55:44] ppocr WARNING: Since the angle classifier is not initialized, the angle classifier will not be uesd during the forward process\n",
      "[2023/08/18 10:55:45] ppocr DEBUG: dt_boxes num : 0, elapse : 0.39738965034484863\n",
      "[2023/08/18 10:55:45] ppocr DEBUG: rec_res num  : 0, elapse : 0.0\n",
      "[2023/08/18 10:55:45] ppocr WARNING: Since the angle classifier is not initialized, the angle classifier will not be uesd during the forward process\n",
      "[2023/08/18 10:55:45] ppocr DEBUG: dt_boxes num : 0, elapse : 0.34986448287963867\n",
      "[2023/08/18 10:55:45] ppocr DEBUG: rec_res num  : 0, elapse : 0.0\n",
      "[2023/08/18 10:55:46] ppocr WARNING: Since the angle classifier is not initialized, the angle classifier will not be uesd during the forward process\n",
      "[2023/08/18 10:55:46] ppocr DEBUG: dt_boxes num : 0, elapse : 0.41437673568725586\n",
      "[2023/08/18 10:55:46] ppocr DEBUG: rec_res num  : 0, elapse : 0.0\n",
      "[2023/08/18 10:55:46] ppocr WARNING: Since the angle classifier is not initialized, the angle classifier will not be uesd during the forward process\n",
      "[2023/08/18 10:55:47] ppocr DEBUG: dt_boxes num : 0, elapse : 0.36139869689941406\n",
      "[2023/08/18 10:55:47] ppocr DEBUG: rec_res num  : 0, elapse : 0.0\n",
      "[2023/08/18 10:55:47] ppocr WARNING: Since the angle classifier is not initialized, the angle classifier will not be uesd during the forward process\n",
      "[2023/08/18 10:55:47] ppocr DEBUG: dt_boxes num : 0, elapse : 0.3594791889190674\n",
      "[2023/08/18 10:55:47] ppocr DEBUG: rec_res num  : 0, elapse : 0.0\n",
      "[2023/08/18 10:55:48] ppocr WARNING: Since the angle classifier is not initialized, the angle classifier will not be uesd during the forward process\n",
      "[2023/08/18 10:55:48] ppocr DEBUG: dt_boxes num : 0, elapse : 0.35048699378967285\n",
      "[2023/08/18 10:55:48] ppocr DEBUG: rec_res num  : 0, elapse : 0.0\n",
      "[2023/08/18 10:55:49] ppocr WARNING: Since the angle classifier is not initialized, the angle classifier will not be uesd during the forward process\n",
      "[2023/08/18 10:55:49] ppocr DEBUG: dt_boxes num : 0, elapse : 0.41400885581970215\n",
      "[2023/08/18 10:55:49] ppocr DEBUG: rec_res num  : 0, elapse : 0.0\n",
      "[2023/08/18 10:55:49] ppocr WARNING: Since the angle classifier is not initialized, the angle classifier will not be uesd during the forward process\n",
      "[2023/08/18 10:55:50] ppocr DEBUG: dt_boxes num : 0, elapse : 0.44071245193481445\n",
      "[2023/08/18 10:55:50] ppocr DEBUG: rec_res num  : 0, elapse : 0.0\n",
      "[2023/08/18 10:55:50] ppocr WARNING: Since the angle classifier is not initialized, the angle classifier will not be uesd during the forward process\n",
      "[2023/08/18 10:55:50] ppocr DEBUG: dt_boxes num : 0, elapse : 0.3841099739074707\n",
      "[2023/08/18 10:55:50] ppocr DEBUG: rec_res num  : 0, elapse : 0.0\n",
      "[2023/08/18 10:55:51] ppocr WARNING: Since the angle classifier is not initialized, the angle classifier will not be uesd during the forward process\n",
      "[2023/08/18 10:55:51] ppocr DEBUG: dt_boxes num : 0, elapse : 0.3666965961456299\n",
      "[2023/08/18 10:55:51] ppocr DEBUG: rec_res num  : 0, elapse : 0.0\n",
      "[2023/08/18 10:55:51] ppocr WARNING: Since the angle classifier is not initialized, the angle classifier will not be uesd during the forward process\n",
      "[2023/08/18 10:55:52] ppocr DEBUG: dt_boxes num : 0, elapse : 0.3641793727874756\n",
      "[2023/08/18 10:55:52] ppocr DEBUG: rec_res num  : 0, elapse : 0.0\n",
      "[2023/08/18 10:55:52] ppocr WARNING: Since the angle classifier is not initialized, the angle classifier will not be uesd during the forward process\n"
     ]
    },
    {
     "ename": "KeyboardInterrupt",
     "evalue": "",
     "output_type": "error",
     "traceback": [
      "\u001b[1;31m---------------------------------------------------------------------------\u001b[0m",
      "\u001b[1;31mKeyboardInterrupt\u001b[0m                         Traceback (most recent call last)",
      "Cell \u001b[1;32mIn[2], line 4\u001b[0m\n\u001b[0;32m      2\u001b[0m \u001b[39mimport\u001b[39;00m \u001b[39mcv2\u001b[39;00m\n\u001b[0;32m      3\u001b[0m url\u001b[39m=\u001b[39m\u001b[39m'\u001b[39m\u001b[39mhttp://192.168.0.174:8080/shot.jpg\u001b[39m\u001b[39m'\u001b[39m\n\u001b[1;32m----> 4\u001b[0m cv2\u001b[39m.\u001b[39mimread(IpCam\u001b[39m.\u001b[39;49mcam_2(url))\n",
      "File \u001b[1;32mc:\\div\\Django_tutorial\\0.connect_model\\example_1\\ip_cam.py:26\u001b[0m, in \u001b[0;36mIpCam.cam_2\u001b[1;34m(url)\u001b[0m\n\u001b[0;32m     22\u001b[0m img \u001b[39m=\u001b[39m cv2\u001b[39m.\u001b[39mresize(img, (\u001b[39m720\u001b[39m, \u001b[39m486\u001b[39m), interpolation\u001b[39m=\u001b[39mcv2\u001b[39m.\u001b[39mINTER_AREA)\n\u001b[0;32m     24\u001b[0m \u001b[39m######################################\u001b[39;00m\n\u001b[0;32m     25\u001b[0m \u001b[39m# OCR 실행\u001b[39;00m\n\u001b[1;32m---> 26\u001b[0m result \u001b[39m=\u001b[39m ocr\u001b[39m.\u001b[39mocr(img)\n\u001b[0;32m     28\u001b[0m \u001b[39m# 인식된 텍스트를 화면에 출력\u001b[39;00m\n\u001b[0;32m     29\u001b[0m \u001b[39mif\u001b[39;00m result:\n",
      "File \u001b[1;32mc:\\div\\Django_tutorial\\0.connect_model\\.venv1\\lib\\site-packages\\paddleocr\\paddleocr.py:648\u001b[0m, in \u001b[0;36mPaddleOCR.ocr\u001b[1;34m(self, img, det, rec, cls)\u001b[0m\n\u001b[0;32m    646\u001b[0m ocr_res \u001b[39m=\u001b[39m []\n\u001b[0;32m    647\u001b[0m \u001b[39mfor\u001b[39;00m idx, img \u001b[39min\u001b[39;00m \u001b[39menumerate\u001b[39m(imgs):\n\u001b[1;32m--> 648\u001b[0m     dt_boxes, rec_res, _ \u001b[39m=\u001b[39m \u001b[39mself\u001b[39;49m\u001b[39m.\u001b[39;49m\u001b[39m__call__\u001b[39;49m(img, \u001b[39mcls\u001b[39;49m)\n\u001b[0;32m    649\u001b[0m     tmp_res \u001b[39m=\u001b[39m [[box\u001b[39m.\u001b[39mtolist(), res]\n\u001b[0;32m    650\u001b[0m                \u001b[39mfor\u001b[39;00m box, res \u001b[39min\u001b[39;00m \u001b[39mzip\u001b[39m(dt_boxes, rec_res)]\n\u001b[0;32m    651\u001b[0m     ocr_res\u001b[39m.\u001b[39mappend(tmp_res)\n",
      "File \u001b[1;32mc:\\div\\Django_tutorial\\0.connect_model\\.venv1\\lib\\site-packages\\paddleocr\\tools\\infer\\predict_system.py:71\u001b[0m, in \u001b[0;36mTextSystem.__call__\u001b[1;34m(self, img, cls)\u001b[0m\n\u001b[0;32m     69\u001b[0m start \u001b[39m=\u001b[39m time\u001b[39m.\u001b[39mtime()\n\u001b[0;32m     70\u001b[0m ori_im \u001b[39m=\u001b[39m img\u001b[39m.\u001b[39mcopy()\n\u001b[1;32m---> 71\u001b[0m dt_boxes, elapse \u001b[39m=\u001b[39m \u001b[39mself\u001b[39;49m\u001b[39m.\u001b[39;49mtext_detector(img)\n\u001b[0;32m     72\u001b[0m time_dict[\u001b[39m'\u001b[39m\u001b[39mdet\u001b[39m\u001b[39m'\u001b[39m] \u001b[39m=\u001b[39m elapse\n\u001b[0;32m     73\u001b[0m logger\u001b[39m.\u001b[39mdebug(\u001b[39m\"\u001b[39m\u001b[39mdt_boxes num : \u001b[39m\u001b[39m{}\u001b[39;00m\u001b[39m, elapse : \u001b[39m\u001b[39m{}\u001b[39;00m\u001b[39m\"\u001b[39m\u001b[39m.\u001b[39mformat(\n\u001b[0;32m     74\u001b[0m     \u001b[39mlen\u001b[39m(dt_boxes), elapse))\n",
      "File \u001b[1;32mc:\\div\\Django_tutorial\\0.connect_model\\.venv1\\lib\\site-packages\\paddleocr\\tools\\infer\\predict_det.py:248\u001b[0m, in \u001b[0;36mTextDetector.__call__\u001b[1;34m(self, img)\u001b[0m\n\u001b[0;32m    246\u001b[0m outputs \u001b[39m=\u001b[39m []\n\u001b[0;32m    247\u001b[0m \u001b[39mfor\u001b[39;00m output_tensor \u001b[39min\u001b[39;00m \u001b[39mself\u001b[39m\u001b[39m.\u001b[39moutput_tensors:\n\u001b[1;32m--> 248\u001b[0m     output \u001b[39m=\u001b[39m output_tensor\u001b[39m.\u001b[39;49mcopy_to_cpu()\n\u001b[0;32m    249\u001b[0m     outputs\u001b[39m.\u001b[39mappend(output)\n\u001b[0;32m    250\u001b[0m \u001b[39mif\u001b[39;00m \u001b[39mself\u001b[39m\u001b[39m.\u001b[39margs\u001b[39m.\u001b[39mbenchmark:\n",
      "\u001b[1;31mKeyboardInterrupt\u001b[0m: "
     ]
    }
   ],
   "source": [
    "from ip_cam import IpCam\n",
    "import cv2\n",
    "url='http://192.168.0.174:8080/shot.jpg'\n",
    "cv2.imread(IpCam.cam_2(url))\n"
   ]
  },
  {
   "cell_type": "code",
   "execution_count": 4,
   "metadata": {},
   "outputs": [],
   "source": [
    "import open_cam"
   ]
  },
  {
   "cell_type": "code",
   "execution_count": 5,
   "metadata": {},
   "outputs": [
    {
     "ename": "KeyboardInterrupt",
     "evalue": "",
     "output_type": "error",
     "traceback": [
      "\u001b[1;31m---------------------------------------------------------------------------\u001b[0m",
      "\u001b[1;31mKeyboardInterrupt\u001b[0m                         Traceback (most recent call last)",
      "Cell \u001b[1;32mIn[5], line 1\u001b[0m\n\u001b[1;32m----> 1\u001b[0m open_cam\u001b[39m.\u001b[39;49mCam\u001b[39m.\u001b[39;49mcam_1()\n",
      "File \u001b[1;32mc:\\div\\Django_tutorial\\0.connect_model\\example_1\\open_cam.py:13\u001b[0m, in \u001b[0;36mCam.cam_1\u001b[1;34m()\u001b[0m\n\u001b[0;32m     10\u001b[0m     exit()\n\u001b[0;32m     12\u001b[0m \u001b[39mwhile\u001b[39;00m webcam\u001b[39m.\u001b[39misOpened():\n\u001b[1;32m---> 13\u001b[0m     status, frame \u001b[39m=\u001b[39m webcam\u001b[39m.\u001b[39;49mread()\n\u001b[0;32m     15\u001b[0m     \u001b[39mif\u001b[39;00m status:\n\u001b[0;32m     16\u001b[0m         cv2\u001b[39m.\u001b[39mimshow(\u001b[39m\"\u001b[39m\u001b[39mtest\u001b[39m\u001b[39m\"\u001b[39m, frame)\n",
      "\u001b[1;31mKeyboardInterrupt\u001b[0m: "
     ]
    },
    {
     "ename": "",
     "evalue": "",
     "output_type": "error",
     "traceback": [
      "\u001b[1;31m현재 셀 또는 이전 셀에서 코드를 실행하는 동안 Kernel이 충돌했습니다. 셀의 코드를 검토하여 오류의 가능한 원인을 식별하세요. 자세한 내용을 보려면 <a href='https://aka.ms/vscodeJupyterKernelCrash'> 여기 </a> 를 클릭하세요. 자세한 내용은 Jupyter <a href='command:jupyter.viewOutput'>로그</a>를 참조하세요."
     ]
    }
   ],
   "source": [
    "open_cam.Cam.cam_1()"
   ]
  },
  {
   "cell_type": "code",
   "execution_count": null,
   "metadata": {},
   "outputs": [],
   "source": []
  }
 ],
 "metadata": {
  "kernelspec": {
   "display_name": "ml",
   "language": "python",
   "name": "python3"
  },
  "language_info": {
   "codemirror_mode": {
    "name": "ipython",
    "version": 3
   },
   "file_extension": ".py",
   "mimetype": "text/x-python",
   "name": "python",
   "nbconvert_exporter": "python",
   "pygments_lexer": "ipython3",
   "version": "3.10.11"
  },
  "orig_nbformat": 4
 },
 "nbformat": 4,
 "nbformat_minor": 2
}
